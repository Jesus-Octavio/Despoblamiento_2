{
 "cells": [
  {
   "cell_type": "code",
   "execution_count": 1,
   "id": "be45a639",
   "metadata": {},
   "outputs": [],
   "source": [
    "import pandas as pd"
   ]
  },
  {
   "cell_type": "code",
   "execution_count": 2,
   "id": "0807394b",
   "metadata": {},
   "outputs": [],
   "source": [
    "my_df = pd.read_csv(\"data.csv\")"
   ]
  },
  {
   "cell_type": "code",
   "execution_count": 4,
   "id": "3db85547",
   "metadata": {},
   "outputs": [
    {
     "data": {
      "text/html": [
       "<div>\n",
       "<style scoped>\n",
       "    .dataframe tbody tr th:only-of-type {\n",
       "        vertical-align: middle;\n",
       "    }\n",
       "\n",
       "    .dataframe tbody tr th {\n",
       "        vertical-align: top;\n",
       "    }\n",
       "\n",
       "    .dataframe thead th {\n",
       "        text-align: right;\n",
       "    }\n",
       "</style>\n",
       "<table border=\"1\" class=\"dataframe\">\n",
       "  <thead>\n",
       "    <tr style=\"text-align: right;\">\n",
       "      <th></th>\n",
       "      <th>POB2018</th>\n",
       "      <th>NAT2018</th>\n",
       "      <th>MOR2018</th>\n",
       "      <th>POB2019</th>\n",
       "    </tr>\n",
       "  </thead>\n",
       "  <tbody>\n",
       "    <tr>\n",
       "      <th>0</th>\n",
       "      <td>8716</td>\n",
       "      <td>63</td>\n",
       "      <td>85</td>\n",
       "      <td>8782</td>\n",
       "    </tr>\n",
       "    <tr>\n",
       "      <th>1</th>\n",
       "      <td>11148</td>\n",
       "      <td>55</td>\n",
       "      <td>175</td>\n",
       "      <td>11025</td>\n",
       "    </tr>\n",
       "    <tr>\n",
       "      <th>2</th>\n",
       "      <td>4172</td>\n",
       "      <td>20</td>\n",
       "      <td>30</td>\n",
       "      <td>4207</td>\n",
       "    </tr>\n",
       "  </tbody>\n",
       "</table>\n",
       "</div>"
      ],
      "text/plain": [
       "   POB2018  NAT2018  MOR2018  POB2019\n",
       "0     8716       63       85     8782\n",
       "1    11148       55      175    11025\n",
       "2     4172       20       30     4207"
      ]
     },
     "execution_count": 4,
     "metadata": {},
     "output_type": "execute_result"
    }
   ],
   "source": [
    "my_df[[\"POB2018\", \"NAT2018\", \"MOR2018\", \"POB2019\"]]"
   ]
  },
  {
   "cell_type": "code",
   "execution_count": null,
   "id": "96225d8f",
   "metadata": {},
   "outputs": [],
   "source": []
  },
  {
   "cell_type": "code",
   "execution_count": null,
   "id": "eb7852b8",
   "metadata": {},
   "outputs": [],
   "source": []
  },
  {
   "cell_type": "code",
   "execution_count": null,
   "id": "537ee5b6",
   "metadata": {},
   "outputs": [],
   "source": []
  },
  {
   "cell_type": "code",
   "execution_count": null,
   "id": "84032a54",
   "metadata": {},
   "outputs": [],
   "source": []
  },
  {
   "cell_type": "code",
   "execution_count": 17,
   "id": "bb84d9a0",
   "metadata": {},
   "outputs": [
    {
     "data": {
      "text/plain": [
       "67"
      ]
     },
     "execution_count": 17,
     "metadata": {},
     "output_type": "execute_result"
    }
   ],
   "source": [
    "my_df = pd.read_csv(\"df_final.csv\").drop([\"Unnamed: 0\"], axis = 1)\n",
    "my_df.shape[1]"
   ]
  },
  {
   "cell_type": "code",
   "execution_count": 18,
   "id": "9d112581",
   "metadata": {},
   "outputs": [
    {
     "data": {
      "text/plain": [
       "'Suances'"
      ]
     },
     "execution_count": 18,
     "metadata": {},
     "output_type": "execute_result"
    }
   ],
   "source": [
    "my_df[\"Nombre\"][0]"
   ]
  },
  {
   "cell_type": "code",
   "execution_count": 72,
   "id": "b41e192c",
   "metadata": {},
   "outputs": [],
   "source": [
    "class Universe():\n",
    "    \n",
    "    def __init__(self, df):\n",
    "        self.main_dataframe = df\n",
    "        population_builder = self.PopulationBuilder()\n",
    "        self.num_populations  = population_builder[0]\n",
    "        self.population_codes = population_builder[1]\n",
    "        self.population_names = population_builder[2]\n",
    "\n",
    "    def PopulationBuilder(self):\n",
    "        population_codes = list(self.main_dataframe[\"CODMUN\"])\n",
    "        population_names = list(self.main_dataframe[\"Nombre\"]) \n",
    "        num_populations  = self.main_dataframe.shape[0]\n",
    "        \n",
    "        return [num_populations, population_codes, population_names]\n",
    "            \n",
    "            \n",
    "    \n",
    "    def debug(self):\n",
    "        print('---------------------------------------------------')\n",
    "        print('|       Population centres in the Universe        |')\n",
    "        print('---------------------------------------------------')\n",
    "        print(\"Number of populaton centres: %s\" % self.num_populations)\n",
    "        for code, population in zip(self.population_codes, self.population_names):\n",
    "            print(\"Population centre with code %s : %s\" %(code, population))\n",
    "    "
   ]
  },
  {
   "cell_type": "code",
   "execution_count": 73,
   "id": "84d1d62f",
   "metadata": {},
   "outputs": [
    {
     "name": "stdout",
     "output_type": "stream",
     "text": [
      "---------------------------------------------------\n",
      "|       Population centres in the Universe        |\n",
      "---------------------------------------------------\n",
      "Number of populaton centres: 3\n",
      "Population centre with code 39085 : Suances\n",
      "Population centre with code 39035 : Laredo\n",
      "Population centre with code 39076 : Santillana del Mar\n"
     ]
    }
   ],
   "source": [
    "if __name__ == \"__main__\":\n",
    "    k = Universe(my_df)\n",
    "    k.debug()\n"
   ]
  }
 ],
 "metadata": {
  "kernelspec": {
   "display_name": "Python 3 (ipykernel)",
   "language": "python",
   "name": "python3"
  },
  "language_info": {
   "codemirror_mode": {
    "name": "ipython",
    "version": 3
   },
   "file_extension": ".py",
   "mimetype": "text/x-python",
   "name": "python",
   "nbconvert_exporter": "python",
   "pygments_lexer": "ipython3",
   "version": "3.7.11"
  }
 },
 "nbformat": 4,
 "nbformat_minor": 5
}
