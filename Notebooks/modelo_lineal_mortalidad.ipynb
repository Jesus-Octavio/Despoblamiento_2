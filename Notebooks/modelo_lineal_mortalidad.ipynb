{
  "nbformat": 4,
  "nbformat_minor": 0,
  "metadata": {
    "colab": {
      "name": "modelo_lineal_mortalidad.ipynb",
      "provenance": [],
      "collapsed_sections": [
        "itogZHsVs4Af",
        "Q8GMaDe-s-rJ",
        "u--2ji1oA8bF",
        "z7G4FzA1PI0-"
      ]
    },
    "kernelspec": {
      "name": "python3",
      "display_name": "Python 3"
    },
    "language_info": {
      "name": "python"
    }
  },
  "cells": [
    {
      "cell_type": "markdown",
      "source": [
        "**Modelo lineal para predecir mortalidad**"
      ],
      "metadata": {
        "id": "hY17JhmNBmwM"
      }
    },
    {
      "cell_type": "markdown",
      "source": [
        "## CARGA DE LIBRERÍAS"
      ],
      "metadata": {
        "id": "itogZHsVs4Af"
      }
    },
    {
      "cell_type": "code",
      "execution_count": 1,
      "metadata": {
        "id": "D5LK6Lghg_y3"
      },
      "outputs": [],
      "source": [
        "import pandas as pd\n",
        "import numpy as np\n",
        "import matplotlib.pyplot as plt\n",
        "import seaborn as sns\n",
        "from functools import reduce\n",
        "\n",
        "from sklearn.model_selection import train_test_split\n",
        "from sklearn.linear_model import LinearRegression\n",
        "from sklearn.metrics import r2_score, mean_absolute_error, mean_squared_error\n",
        "\n",
        "import plotly.express as px\n",
        "import plotly.graph_objects as go\n",
        "from IPython.display import Markdown\n"
      ]
    },
    {
      "cell_type": "code",
      "source": [
        "from google.colab import drive\n",
        "drive.mount(\"/content/drive\", force_remount=True)"
      ],
      "metadata": {
        "colab": {
          "base_uri": "https://localhost:8080/"
        },
        "id": "1hshcfIGhMQb",
        "outputId": "eab895f0-f6c7-445f-faa9-a1e42c87e9d0"
      },
      "execution_count": 2,
      "outputs": [
        {
          "output_type": "stream",
          "name": "stdout",
          "text": [
            "Mounted at /content/drive\n"
          ]
        }
      ]
    },
    {
      "cell_type": "markdown",
      "source": [
        "## CARGA DE DATOS Y PRIMER FILTRADO\n",
        "* Filtrar según rangos de edad. Algunas gráficas,"
      ],
      "metadata": {
        "id": "Q8GMaDe-s-rJ"
      }
    },
    {
      "cell_type": "code",
      "source": [
        "path = '/content/drive/MyDrive/TFM/nuevosdatos'\n",
        "df_excel_01  = pd.read_excel(path+'/EXCEL_01.xlsx')"
      ],
      "metadata": {
        "colab": {
          "base_uri": "https://localhost:8080/"
        },
        "id": "6q93a2TAhRtU",
        "outputId": "a3c91f79-46b0-4717-a23b-d81fac487854"
      },
      "execution_count": 3,
      "outputs": [
        {
          "output_type": "stream",
          "name": "stderr",
          "text": [
            "/usr/local/lib/python3.7/dist-packages/openpyxl/worksheet/header_footer.py:48: UserWarning: Cannot parse header or footer so it will be ignored\n",
            "  warn(\"\"\"Cannot parse header or footer so it will be ignored\"\"\")\n"
          ]
        }
      ]
    },
    {
      "cell_type": "code",
      "source": [
        "my_codes = [39075, 39085, 39035, 48020, 33024, 24089, 1059, 37274] # Seleccionar algunos municipios\n",
        "my_prefixes = ['TC'] # Filtrar columnas"
      ],
      "metadata": {
        "id": "RgMza9FhiZKw"
      },
      "execution_count": 4,
      "outputs": []
    },
    {
      "cell_type": "code",
      "source": [
        " # Seleccionar algunos municipios\n",
        "#temp = df_excel_01[df_excel_01[\"CODMUN\"].isin(my_codes)]\n",
        "temp = df_excel_01\n",
        "# Filtar columnas\n",
        "df_info_population = temp[temp.columns[~pd.Series(temp.columns).str.startswith(tuple(my_prefixes))]]"
      ],
      "metadata": {
        "id": "Er8sbF_lhWhF"
      },
      "execution_count": 5,
      "outputs": []
    },
    {
      "cell_type": "code",
      "source": [
        "df_excel_01b  = pd.read_excel(path+'/EXCEL_01B.xlsx')"
      ],
      "metadata": {
        "id": "39cU66mBlflv"
      },
      "execution_count": 6,
      "outputs": []
    },
    {
      "cell_type": "code",
      "source": [
        "my_prefixes = ['NOMBRE', \"HTC\", \"CODMUN.1\", \"NOMBRE.1\", \"MTC\"] # Filtrar columnas\n",
        "# Seleccionar algunos municipios\n",
        "#temp = df_excel_01b[df_excel_01b[\"CODMUN\"].isin(my_codes)]\n",
        "temp = df_excel_01b\n",
        "# Filtar columnas\n",
        "df_man_women = temp[temp.columns[~pd.Series(temp.columns).str.startswith(tuple(my_prefixes))]]"
      ],
      "metadata": {
        "id": "EZonv1_Olr4T"
      },
      "execution_count": 7,
      "outputs": []
    },
    {
      "cell_type": "code",
      "source": [
        "df_excel_02  = pd.read_excel(path+'/EXCEL_02.xlsx')"
      ],
      "metadata": {
        "id": "FW4p6XpemSkx"
      },
      "execution_count": 8,
      "outputs": []
    },
    {
      "cell_type": "code",
      "source": [
        "my_prefixes = [\"TBNAT.1\", \"TBMOR.1\", \"Provincia\", \"Municipio\"] # Filtrar columnas\n",
        "# Seleccionar algunos municipios\n",
        "#temp = df_excel_02[df_excel_02[\"CODMUN\"].isin(my_codes)]\n",
        "temp = df_excel_02\n",
        "# Filtar columnas\n",
        "df_nat_mor = temp[temp.columns[~pd.Series(temp.columns).str.startswith(tuple(my_prefixes))]]"
      ],
      "metadata": {
        "id": "x9b2u8wlmWbl"
      },
      "execution_count": 9,
      "outputs": []
    },
    {
      "cell_type": "code",
      "source": [
        "df_excel_03  = pd.read_excel(path+'/EXCEL_03.xlsx')"
      ],
      "metadata": {
        "colab": {
          "base_uri": "https://localhost:8080/"
        },
        "id": "i_vVgEPdmyUf",
        "outputId": "ee92b832-cd10-4cb0-bd09-c8d81b8d4e8b"
      },
      "execution_count": 10,
      "outputs": [
        {
          "output_type": "stream",
          "name": "stderr",
          "text": [
            "/usr/local/lib/python3.7/dist-packages/openpyxl/worksheet/header_footer.py:48: UserWarning: Cannot parse header or footer so it will be ignored\n",
            "  warn(\"\"\"Cannot parse header or footer so it will be ignored\"\"\")\n"
          ]
        }
      ]
    },
    {
      "cell_type": "code",
      "source": [
        "my_prefixes = [\"SALDOTT\", \"CODMUN\"] # Filtrar columnas\n",
        "# Seleccionar algunos municipios\n",
        "#temp = df_excel_03[df_excel_03[\"CODMUN\"].isin(my_codes)]\n",
        "temp = df_excel_03\n",
        "# Filtar columnas\n",
        "df_saldo = temp[temp.columns[pd.Series(temp.columns).str.startswith(tuple(my_prefixes))]]"
      ],
      "metadata": {
        "id": "LT-TKEgSmzoA"
      },
      "execution_count": 11,
      "outputs": []
    },
    {
      "cell_type": "code",
      "source": [
        "df_excel_04  = pd.read_excel(path+'/EXCEL_04.xlsx')"
      ],
      "metadata": {
        "colab": {
          "base_uri": "https://localhost:8080/"
        },
        "id": "WXs-96oEnHR6",
        "outputId": "7fb055fc-12ae-4219-f7b4-161608193d01"
      },
      "execution_count": 12,
      "outputs": [
        {
          "output_type": "stream",
          "name": "stderr",
          "text": [
            "/usr/local/lib/python3.7/dist-packages/openpyxl/worksheet/header_footer.py:48: UserWarning: Cannot parse header or footer so it will be ignored\n",
            "  warn(\"\"\"Cannot parse header or footer so it will be ignored\"\"\")\n"
          ]
        }
      ]
    },
    {
      "cell_type": "code",
      "source": [
        "my_prefixes = [\"POB\", \"NOMBRE\", \"PROVINCIA\", \"CCAA\", \"NATCODE\"] # Filtrar columnas\n",
        "# Seleccionar algunos municipios\n",
        "#temp = df_excel_04[df_excel_04[\"CODMUN\"].isin(my_codes)]\n",
        "temp = df_excel_04\n",
        "# Filtar columnas\n",
        "df_ages_data = temp[temp.columns[~pd.Series(temp.columns).str.startswith(tuple(my_prefixes))]]"
      ],
      "metadata": {
        "id": "R5nfKdnhnFfw"
      },
      "execution_count": 13,
      "outputs": []
    },
    {
      "cell_type": "code",
      "source": [
        "dfs = [df_info_population, df_man_women, df_nat_mor, df_ages_data]\n",
        "df_final = reduce(lambda left,right: pd.merge(left,right,on='CODMUN'), dfs)"
      ],
      "metadata": {
        "id": "z4Vw7L5JoHHC"
      },
      "execution_count": 14,
      "outputs": []
    },
    {
      "cell_type": "code",
      "source": [
        "cols_identifiers = df_final.columns[:9]"
      ],
      "metadata": {
        "id": "TiIMCIo0oHw6"
      },
      "execution_count": 15,
      "outputs": []
    },
    {
      "cell_type": "markdown",
      "source": [
        ""
      ],
      "metadata": {
        "id": "eiE-N6jU2E2i"
      }
    },
    {
      "cell_type": "code",
      "source": [
        "men_2021 = []\n",
        "men_2010 = []\n",
        "men_2003 = []\n",
        "for elem in df_final.columns:\n",
        "  if elem[0] == \"H\":\n",
        "    if (elem[0:2] not in  [\"HO\", \"HP\", \"HI\"]):\n",
        "      if elem.split(\"_\")[1] == \"10\":\n",
        "          men_2010.append(elem)\n",
        "      if elem.split(\"_\")[1] == \"03\":\n",
        "          men_2003.append(elem)\n",
        "      if elem.split(\"_\")[1] == \"21\":\n",
        "          men_2021.append(elem)"
      ],
      "metadata": {
        "id": "sewo-byGoHzQ"
      },
      "execution_count": 16,
      "outputs": []
    },
    {
      "cell_type": "code",
      "source": [
        "women_2021 = []\n",
        "women_2010 = []\n",
        "women_2003 = []\n",
        "for elem in df_final.columns:\n",
        "  if elem[0] == \"M\":\n",
        "    if (elem[0:2] not in  [\"MO\", \"MU\", \"MP\", \"ME\"]):\n",
        "      if elem.split(\"_\")[1] == \"10\":\n",
        "          women_2010.append(elem)\n",
        "      if elem.split(\"_\")[1] == \"03\":\n",
        "          women_2003.append(elem)\n",
        "      if elem.split(\"_\")[1] == \"21\":\n",
        "          women_2021.append(elem)"
      ],
      "metadata": {
        "id": "s22D3_SjoH3t"
      },
      "execution_count": 17,
      "outputs": []
    },
    {
      "cell_type": "code",
      "source": [
        "temp = df_final[[*[\"CODMUN\", \"Nombre\"], *men_2010]]\n",
        "df_selected = temp[temp[\"CODMUN\"].isin(my_codes)].\\\n",
        "       melt(id_vars = [\"CODMUN\", \"Nombre\"], var_name = \"Rango\", value_name = \"Total_Rango\")\n",
        "       #set_index([\"CODMUN\"]).\\\n",
        "       #sort_index()\n",
        "                                                 "
      ],
      "metadata": {
        "id": "oUnLfobtuyWZ"
      },
      "execution_count": 18,
      "outputs": []
    },
    {
      "cell_type": "code",
      "source": [
        "fig = px.line(df_selected, \n",
        "        x=\"Rango\", \n",
        "        y=\"Total_Rango\", \n",
        "        color=\"Nombre\", \n",
        "        title=\"Población masculina por rango de edad y municipio en 2010\",\n",
        "        labels = {\"Nombre\" : \"Municipio\",\n",
        "                  \"CODMUN\" : \"Código\"},\n",
        "        custom_data = [\"CODMUN\"])\n",
        "\n",
        "for elem in fig.data:\n",
        "  temp = elem.hovertemplate\n",
        "  elem.hovertemplate = temp + '<br>' + \"Nombre=%{customdata[0]}\" + '<br>' + \"Codigo Municipio=%{customdata[1]}\"\n",
        "\n",
        "\n",
        "fig.show()\n"
      ],
      "metadata": {
        "colab": {
          "base_uri": "https://localhost:8080/",
          "height": 562
        },
        "id": "qbiAbLdUyL3a",
        "outputId": "535f5d64-acd5-487c-b0c5-b71ed08247c9"
      },
      "execution_count": 19,
      "outputs": [
        {
          "output_type": "display_data",
          "data": {
            "text/html": [
              "<html>\n",
              "<head><meta charset=\"utf-8\" /></head>\n",
              "<body>\n",
              "    <div>            <script src=\"https://cdnjs.cloudflare.com/ajax/libs/mathjax/2.7.5/MathJax.js?config=TeX-AMS-MML_SVG\"></script><script type=\"text/javascript\">if (window.MathJax) {MathJax.Hub.Config({SVG: {font: \"STIX-Web\"}});}</script>                <script type=\"text/javascript\">window.PlotlyConfig = {MathJaxConfig: 'local'};</script>\n",
              "        <script src=\"https://cdn.plot.ly/plotly-2.8.3.min.js\"></script>                <div id=\"8af6938b-fa50-42c0-9ea4-62ac821a94ce\" class=\"plotly-graph-div\" style=\"height:525px; width:100%;\"></div>            <script type=\"text/javascript\">                                    window.PLOTLYENV=window.PLOTLYENV || {};                                    if (document.getElementById(\"8af6938b-fa50-42c0-9ea4-62ac821a94ce\")) {                    Plotly.newPlot(                        \"8af6938b-fa50-42c0-9ea4-62ac821a94ce\",                        [{\"customdata\":[[33024],[33024],[33024],[33024],[33024],[33024],[33024],[33024],[33024],[33024],[33024],[33024],[33024],[33024],[33024],[33024],[33024],[33024],[33024],[33024],[33024]],\"hovertemplate\":\"Municipio=Gij\\u00f3n<br>Rango=%{x}<br>Total_Rango=%{y}<extra></extra><br>Nombre=%{customdata[0]}<br>Codigo Municipio=%{customdata[1]}\",\"legendgroup\":\"Gij\\u00f3n\",\"line\":{\"color\":\"#636efa\",\"dash\":\"solid\"},\"marker\":{\"symbol\":\"circle\"},\"mode\":\"lines\",\"name\":\"Gij\\u00f3n\",\"orientation\":\"v\",\"showlegend\":true,\"x\":[\"H0A4_10\",\"H5A9_10\",\"H10A14_10\",\"H15A19_10\",\"H20A24_10\",\"H25A29_10\",\"H30A34_10\",\"H35A39_10\",\"H40A44_10\",\"H45A49_10\",\"H50A54_10\",\"H55A59_10\",\"H60A64_10\",\"H65A69_10\",\"H70A74_10\",\"H75A79_10\",\"H80A84_10\",\"H85A89_10\",\"H90A94_10\",\"H95A99_10\",\"H100MS_10\"],\"xaxis\":\"x\",\"y\":[5372.0,5157.0,4704.0,4934.0,6069.0,8483.0,11539.0,11821.0,10505.0,10113.0,9719.0,9316.0,9430.0,6836.0,5574.0,5690.0,3653.0,1723.0,460.0,111.0,8.0],\"yaxis\":\"y\",\"type\":\"scatter\"},{\"customdata\":[[24089],[24089],[24089],[24089],[24089],[24089],[24089],[24089],[24089],[24089],[24089],[24089],[24089],[24089],[24089],[24089],[24089],[24089],[24089],[24089],[24089]],\"hovertemplate\":\"Municipio=Le\\u00f3n<br>Rango=%{x}<br>Total_Rango=%{y}<extra></extra><br>Nombre=%{customdata[0]}<br>Codigo Municipio=%{customdata[1]}\",\"legendgroup\":\"Le\\u00f3n\",\"line\":{\"color\":\"#EF553B\",\"dash\":\"solid\"},\"marker\":{\"symbol\":\"circle\"},\"mode\":\"lines\",\"name\":\"Le\\u00f3n\",\"orientation\":\"v\",\"showlegend\":true,\"x\":[\"H0A4_10\",\"H5A9_10\",\"H10A14_10\",\"H15A19_10\",\"H20A24_10\",\"H25A29_10\",\"H30A34_10\",\"H35A39_10\",\"H40A44_10\",\"H45A49_10\",\"H50A54_10\",\"H55A59_10\",\"H60A64_10\",\"H65A69_10\",\"H70A74_10\",\"H75A79_10\",\"H80A84_10\",\"H85A89_10\",\"H90A94_10\",\"H95A99_10\",\"H100MS_10\"],\"xaxis\":\"x\",\"y\":[2555.0,2681.0,2629.0,2961.0,3480.0,4225.0,4672.0,4546.0,4772.0,4645.0,4603.0,4081.0,3648.0,3089.0,2672.0,2858.0,2028.0,1143.0,309.0,70.0,18.0],\"yaxis\":\"y\",\"type\":\"scatter\"},{\"customdata\":[[37274],[37274],[37274],[37274],[37274],[37274],[37274],[37274],[37274],[37274],[37274],[37274],[37274],[37274],[37274],[37274],[37274],[37274],[37274],[37274],[37274]],\"hovertemplate\":\"Municipio=Salamanca<br>Rango=%{x}<br>Total_Rango=%{y}<extra></extra><br>Nombre=%{customdata[0]}<br>Codigo Municipio=%{customdata[1]}\",\"legendgroup\":\"Salamanca\",\"line\":{\"color\":\"#00cc96\",\"dash\":\"solid\"},\"marker\":{\"symbol\":\"circle\"},\"mode\":\"lines\",\"name\":\"Salamanca\",\"orientation\":\"v\",\"showlegend\":true,\"x\":[\"H0A4_10\",\"H5A9_10\",\"H10A14_10\",\"H15A19_10\",\"H20A24_10\",\"H25A29_10\",\"H30A34_10\",\"H35A39_10\",\"H40A44_10\",\"H45A49_10\",\"H50A54_10\",\"H55A59_10\",\"H60A64_10\",\"H65A69_10\",\"H70A74_10\",\"H75A79_10\",\"H80A84_10\",\"H85A89_10\",\"H90A94_10\",\"H95A99_10\",\"H100MS_10\"],\"xaxis\":\"x\",\"y\":[3307.0,3139.0,3149.0,3583.0,4376.0,5125.0,5420.0,5184.0,5150.0,5270.0,5081.0,4437.0,4092.0,3791.0,3155.0,3029.0,2247.0,1281.0,363.0,118.0,17.0],\"yaxis\":\"y\",\"type\":\"scatter\"},{\"customdata\":[[39085],[39085],[39085],[39085],[39085],[39085],[39085],[39085],[39085],[39085],[39085],[39085],[39085],[39085],[39085],[39085],[39085],[39085],[39085],[39085],[39085]],\"hovertemplate\":\"Municipio=Suances<br>Rango=%{x}<br>Total_Rango=%{y}<extra></extra><br>Nombre=%{customdata[0]}<br>Codigo Municipio=%{customdata[1]}\",\"legendgroup\":\"Suances\",\"line\":{\"color\":\"#ab63fa\",\"dash\":\"solid\"},\"marker\":{\"symbol\":\"circle\"},\"mode\":\"lines\",\"name\":\"Suances\",\"orientation\":\"v\",\"showlegend\":true,\"x\":[\"H0A4_10\",\"H5A9_10\",\"H10A14_10\",\"H15A19_10\",\"H20A24_10\",\"H25A29_10\",\"H30A34_10\",\"H35A39_10\",\"H40A44_10\",\"H45A49_10\",\"H50A54_10\",\"H55A59_10\",\"H60A64_10\",\"H65A69_10\",\"H70A74_10\",\"H75A79_10\",\"H80A84_10\",\"H85A89_10\",\"H90A94_10\",\"H95A99_10\",\"H100MS_10\"],\"xaxis\":\"x\",\"y\":[262.0,184.0,200.0,173.0,228.0,285.0,392.0,408.0,346.0,309.0,307.0,251.0,229.0,183.0,131.0,136.0,87.0,44.0,7.0,0.0,0.0],\"yaxis\":\"y\",\"type\":\"scatter\"},{\"customdata\":[[39035],[39035],[39035],[39035],[39035],[39035],[39035],[39035],[39035],[39035],[39035],[39035],[39035],[39035],[39035],[39035],[39035],[39035],[39035],[39035],[39035]],\"hovertemplate\":\"Municipio=Laredo<br>Rango=%{x}<br>Total_Rango=%{y}<extra></extra><br>Nombre=%{customdata[0]}<br>Codigo Municipio=%{customdata[1]}\",\"legendgroup\":\"Laredo\",\"line\":{\"color\":\"#FFA15A\",\"dash\":\"solid\"},\"marker\":{\"symbol\":\"circle\"},\"mode\":\"lines\",\"name\":\"Laredo\",\"orientation\":\"v\",\"showlegend\":true,\"x\":[\"H0A4_10\",\"H5A9_10\",\"H10A14_10\",\"H15A19_10\",\"H20A24_10\",\"H25A29_10\",\"H30A34_10\",\"H35A39_10\",\"H40A44_10\",\"H45A49_10\",\"H50A54_10\",\"H55A59_10\",\"H60A64_10\",\"H65A69_10\",\"H70A74_10\",\"H75A79_10\",\"H80A84_10\",\"H85A89_10\",\"H90A94_10\",\"H95A99_10\",\"H100MS_10\"],\"xaxis\":\"x\",\"y\":[233.0,210.0,253.0,270.0,318.0,410.0,474.0,452.0,494.0,429.0,503.0,414.0,374.0,341.0,272.0,250.0,170.0,88.0,20.0,6.0,0.0],\"yaxis\":\"y\",\"type\":\"scatter\"},{\"customdata\":[[39075],[39075],[39075],[39075],[39075],[39075],[39075],[39075],[39075],[39075],[39075],[39075],[39075],[39075],[39075],[39075],[39075],[39075],[39075],[39075],[39075]],\"hovertemplate\":\"Municipio=Santander<br>Rango=%{x}<br>Total_Rango=%{y}<extra></extra><br>Nombre=%{customdata[0]}<br>Codigo Municipio=%{customdata[1]}\",\"legendgroup\":\"Santander\",\"line\":{\"color\":\"#19d3f3\",\"dash\":\"solid\"},\"marker\":{\"symbol\":\"circle\"},\"mode\":\"lines\",\"name\":\"Santander\",\"orientation\":\"v\",\"showlegend\":true,\"x\":[\"H0A4_10\",\"H5A9_10\",\"H10A14_10\",\"H15A19_10\",\"H20A24_10\",\"H25A29_10\",\"H30A34_10\",\"H35A39_10\",\"H40A44_10\",\"H45A49_10\",\"H50A54_10\",\"H55A59_10\",\"H60A64_10\",\"H65A69_10\",\"H70A74_10\",\"H75A79_10\",\"H80A84_10\",\"H85A89_10\",\"H90A94_10\",\"H95A99_10\",\"H100MS_10\"],\"xaxis\":\"x\",\"y\":[3670.0,3640.0,3496.0,4131.0,4960.0,6536.0,7077.0,6469.0,6470.0,6377.0,6548.0,5610.0,5252.0,3849.0,3201.0,3177.0,2291.0,1136.0,367.0,72.0,6.0],\"yaxis\":\"y\",\"type\":\"scatter\"},{\"customdata\":[[1059],[1059],[1059],[1059],[1059],[1059],[1059],[1059],[1059],[1059],[1059],[1059],[1059],[1059],[1059],[1059],[1059],[1059],[1059],[1059],[1059]],\"hovertemplate\":\"Municipio=Vitoria-Gasteiz<br>Rango=%{x}<br>Total_Rango=%{y}<extra></extra><br>Nombre=%{customdata[0]}<br>Codigo Municipio=%{customdata[1]}\",\"legendgroup\":\"Vitoria-Gasteiz\",\"line\":{\"color\":\"#FF6692\",\"dash\":\"solid\"},\"marker\":{\"symbol\":\"circle\"},\"mode\":\"lines\",\"name\":\"Vitoria-Gasteiz\",\"orientation\":\"v\",\"showlegend\":true,\"x\":[\"H0A4_10\",\"H5A9_10\",\"H10A14_10\",\"H15A19_10\",\"H20A24_10\",\"H25A29_10\",\"H30A34_10\",\"H35A39_10\",\"H40A44_10\",\"H45A49_10\",\"H50A54_10\",\"H55A59_10\",\"H60A64_10\",\"H65A69_10\",\"H70A74_10\",\"H75A79_10\",\"H80A84_10\",\"H85A89_10\",\"H90A94_10\",\"H95A99_10\",\"H100MS_10\"],\"xaxis\":\"x\",\"y\":[6013.0,5327.0,4871.0,5109.0,6349.0,8867.0,11158.0,10743.0,9923.0,8887.0,8083.0,7300.0,7182.0,5764.0,4279.0,3920.0,2304.0,1148.0,339.0,78.0,10.0],\"yaxis\":\"y\",\"type\":\"scatter\"},{\"customdata\":[[48020],[48020],[48020],[48020],[48020],[48020],[48020],[48020],[48020],[48020],[48020],[48020],[48020],[48020],[48020],[48020],[48020],[48020],[48020],[48020],[48020]],\"hovertemplate\":\"Municipio=Bilbao<br>Rango=%{x}<br>Total_Rango=%{y}<extra></extra><br>Nombre=%{customdata[0]}<br>Codigo Municipio=%{customdata[1]}\",\"legendgroup\":\"Bilbao\",\"line\":{\"color\":\"#B6E880\",\"dash\":\"solid\"},\"marker\":{\"symbol\":\"circle\"},\"mode\":\"lines\",\"name\":\"Bilbao\",\"orientation\":\"v\",\"showlegend\":true,\"x\":[\"H0A4_10\",\"H5A9_10\",\"H10A14_10\",\"H15A19_10\",\"H20A24_10\",\"H25A29_10\",\"H30A34_10\",\"H35A39_10\",\"H40A44_10\",\"H45A49_10\",\"H50A54_10\",\"H55A59_10\",\"H60A64_10\",\"H65A69_10\",\"H70A74_10\",\"H75A79_10\",\"H80A84_10\",\"H85A89_10\",\"H90A94_10\",\"H95A99_10\",\"H100MS_10\"],\"xaxis\":\"x\",\"y\":[7668.0,7319.0,6720.0,7106.0,8583.0,11277.0,13733.0,13903.0,13964.0,13989.0,12525.0,10278.0,9513.0,8147.0,6894.0,7557.0,4917.0,2195.0,594.0,130.0,7.0],\"yaxis\":\"y\",\"type\":\"scatter\"}],                        {\"template\":{\"data\":{\"bar\":[{\"error_x\":{\"color\":\"#2a3f5f\"},\"error_y\":{\"color\":\"#2a3f5f\"},\"marker\":{\"line\":{\"color\":\"#E5ECF6\",\"width\":0.5},\"pattern\":{\"fillmode\":\"overlay\",\"size\":10,\"solidity\":0.2}},\"type\":\"bar\"}],\"barpolar\":[{\"marker\":{\"line\":{\"color\":\"#E5ECF6\",\"width\":0.5},\"pattern\":{\"fillmode\":\"overlay\",\"size\":10,\"solidity\":0.2}},\"type\":\"barpolar\"}],\"carpet\":[{\"aaxis\":{\"endlinecolor\":\"#2a3f5f\",\"gridcolor\":\"white\",\"linecolor\":\"white\",\"minorgridcolor\":\"white\",\"startlinecolor\":\"#2a3f5f\"},\"baxis\":{\"endlinecolor\":\"#2a3f5f\",\"gridcolor\":\"white\",\"linecolor\":\"white\",\"minorgridcolor\":\"white\",\"startlinecolor\":\"#2a3f5f\"},\"type\":\"carpet\"}],\"choropleth\":[{\"colorbar\":{\"outlinewidth\":0,\"ticks\":\"\"},\"type\":\"choropleth\"}],\"contour\":[{\"colorbar\":{\"outlinewidth\":0,\"ticks\":\"\"},\"colorscale\":[[0.0,\"#0d0887\"],[0.1111111111111111,\"#46039f\"],[0.2222222222222222,\"#7201a8\"],[0.3333333333333333,\"#9c179e\"],[0.4444444444444444,\"#bd3786\"],[0.5555555555555556,\"#d8576b\"],[0.6666666666666666,\"#ed7953\"],[0.7777777777777778,\"#fb9f3a\"],[0.8888888888888888,\"#fdca26\"],[1.0,\"#f0f921\"]],\"type\":\"contour\"}],\"contourcarpet\":[{\"colorbar\":{\"outlinewidth\":0,\"ticks\":\"\"},\"type\":\"contourcarpet\"}],\"heatmap\":[{\"colorbar\":{\"outlinewidth\":0,\"ticks\":\"\"},\"colorscale\":[[0.0,\"#0d0887\"],[0.1111111111111111,\"#46039f\"],[0.2222222222222222,\"#7201a8\"],[0.3333333333333333,\"#9c179e\"],[0.4444444444444444,\"#bd3786\"],[0.5555555555555556,\"#d8576b\"],[0.6666666666666666,\"#ed7953\"],[0.7777777777777778,\"#fb9f3a\"],[0.8888888888888888,\"#fdca26\"],[1.0,\"#f0f921\"]],\"type\":\"heatmap\"}],\"heatmapgl\":[{\"colorbar\":{\"outlinewidth\":0,\"ticks\":\"\"},\"colorscale\":[[0.0,\"#0d0887\"],[0.1111111111111111,\"#46039f\"],[0.2222222222222222,\"#7201a8\"],[0.3333333333333333,\"#9c179e\"],[0.4444444444444444,\"#bd3786\"],[0.5555555555555556,\"#d8576b\"],[0.6666666666666666,\"#ed7953\"],[0.7777777777777778,\"#fb9f3a\"],[0.8888888888888888,\"#fdca26\"],[1.0,\"#f0f921\"]],\"type\":\"heatmapgl\"}],\"histogram\":[{\"marker\":{\"pattern\":{\"fillmode\":\"overlay\",\"size\":10,\"solidity\":0.2}},\"type\":\"histogram\"}],\"histogram2d\":[{\"colorbar\":{\"outlinewidth\":0,\"ticks\":\"\"},\"colorscale\":[[0.0,\"#0d0887\"],[0.1111111111111111,\"#46039f\"],[0.2222222222222222,\"#7201a8\"],[0.3333333333333333,\"#9c179e\"],[0.4444444444444444,\"#bd3786\"],[0.5555555555555556,\"#d8576b\"],[0.6666666666666666,\"#ed7953\"],[0.7777777777777778,\"#fb9f3a\"],[0.8888888888888888,\"#fdca26\"],[1.0,\"#f0f921\"]],\"type\":\"histogram2d\"}],\"histogram2dcontour\":[{\"colorbar\":{\"outlinewidth\":0,\"ticks\":\"\"},\"colorscale\":[[0.0,\"#0d0887\"],[0.1111111111111111,\"#46039f\"],[0.2222222222222222,\"#7201a8\"],[0.3333333333333333,\"#9c179e\"],[0.4444444444444444,\"#bd3786\"],[0.5555555555555556,\"#d8576b\"],[0.6666666666666666,\"#ed7953\"],[0.7777777777777778,\"#fb9f3a\"],[0.8888888888888888,\"#fdca26\"],[1.0,\"#f0f921\"]],\"type\":\"histogram2dcontour\"}],\"mesh3d\":[{\"colorbar\":{\"outlinewidth\":0,\"ticks\":\"\"},\"type\":\"mesh3d\"}],\"parcoords\":[{\"line\":{\"colorbar\":{\"outlinewidth\":0,\"ticks\":\"\"}},\"type\":\"parcoords\"}],\"pie\":[{\"automargin\":true,\"type\":\"pie\"}],\"scatter\":[{\"marker\":{\"colorbar\":{\"outlinewidth\":0,\"ticks\":\"\"}},\"type\":\"scatter\"}],\"scatter3d\":[{\"line\":{\"colorbar\":{\"outlinewidth\":0,\"ticks\":\"\"}},\"marker\":{\"colorbar\":{\"outlinewidth\":0,\"ticks\":\"\"}},\"type\":\"scatter3d\"}],\"scattercarpet\":[{\"marker\":{\"colorbar\":{\"outlinewidth\":0,\"ticks\":\"\"}},\"type\":\"scattercarpet\"}],\"scattergeo\":[{\"marker\":{\"colorbar\":{\"outlinewidth\":0,\"ticks\":\"\"}},\"type\":\"scattergeo\"}],\"scattergl\":[{\"marker\":{\"colorbar\":{\"outlinewidth\":0,\"ticks\":\"\"}},\"type\":\"scattergl\"}],\"scattermapbox\":[{\"marker\":{\"colorbar\":{\"outlinewidth\":0,\"ticks\":\"\"}},\"type\":\"scattermapbox\"}],\"scatterpolar\":[{\"marker\":{\"colorbar\":{\"outlinewidth\":0,\"ticks\":\"\"}},\"type\":\"scatterpolar\"}],\"scatterpolargl\":[{\"marker\":{\"colorbar\":{\"outlinewidth\":0,\"ticks\":\"\"}},\"type\":\"scatterpolargl\"}],\"scatterternary\":[{\"marker\":{\"colorbar\":{\"outlinewidth\":0,\"ticks\":\"\"}},\"type\":\"scatterternary\"}],\"surface\":[{\"colorbar\":{\"outlinewidth\":0,\"ticks\":\"\"},\"colorscale\":[[0.0,\"#0d0887\"],[0.1111111111111111,\"#46039f\"],[0.2222222222222222,\"#7201a8\"],[0.3333333333333333,\"#9c179e\"],[0.4444444444444444,\"#bd3786\"],[0.5555555555555556,\"#d8576b\"],[0.6666666666666666,\"#ed7953\"],[0.7777777777777778,\"#fb9f3a\"],[0.8888888888888888,\"#fdca26\"],[1.0,\"#f0f921\"]],\"type\":\"surface\"}],\"table\":[{\"cells\":{\"fill\":{\"color\":\"#EBF0F8\"},\"line\":{\"color\":\"white\"}},\"header\":{\"fill\":{\"color\":\"#C8D4E3\"},\"line\":{\"color\":\"white\"}},\"type\":\"table\"}]},\"layout\":{\"annotationdefaults\":{\"arrowcolor\":\"#2a3f5f\",\"arrowhead\":0,\"arrowwidth\":1},\"autotypenumbers\":\"strict\",\"coloraxis\":{\"colorbar\":{\"outlinewidth\":0,\"ticks\":\"\"}},\"colorscale\":{\"diverging\":[[0,\"#8e0152\"],[0.1,\"#c51b7d\"],[0.2,\"#de77ae\"],[0.3,\"#f1b6da\"],[0.4,\"#fde0ef\"],[0.5,\"#f7f7f7\"],[0.6,\"#e6f5d0\"],[0.7,\"#b8e186\"],[0.8,\"#7fbc41\"],[0.9,\"#4d9221\"],[1,\"#276419\"]],\"sequential\":[[0.0,\"#0d0887\"],[0.1111111111111111,\"#46039f\"],[0.2222222222222222,\"#7201a8\"],[0.3333333333333333,\"#9c179e\"],[0.4444444444444444,\"#bd3786\"],[0.5555555555555556,\"#d8576b\"],[0.6666666666666666,\"#ed7953\"],[0.7777777777777778,\"#fb9f3a\"],[0.8888888888888888,\"#fdca26\"],[1.0,\"#f0f921\"]],\"sequentialminus\":[[0.0,\"#0d0887\"],[0.1111111111111111,\"#46039f\"],[0.2222222222222222,\"#7201a8\"],[0.3333333333333333,\"#9c179e\"],[0.4444444444444444,\"#bd3786\"],[0.5555555555555556,\"#d8576b\"],[0.6666666666666666,\"#ed7953\"],[0.7777777777777778,\"#fb9f3a\"],[0.8888888888888888,\"#fdca26\"],[1.0,\"#f0f921\"]]},\"colorway\":[\"#636efa\",\"#EF553B\",\"#00cc96\",\"#ab63fa\",\"#FFA15A\",\"#19d3f3\",\"#FF6692\",\"#B6E880\",\"#FF97FF\",\"#FECB52\"],\"font\":{\"color\":\"#2a3f5f\"},\"geo\":{\"bgcolor\":\"white\",\"lakecolor\":\"white\",\"landcolor\":\"#E5ECF6\",\"showlakes\":true,\"showland\":true,\"subunitcolor\":\"white\"},\"hoverlabel\":{\"align\":\"left\"},\"hovermode\":\"closest\",\"mapbox\":{\"style\":\"light\"},\"paper_bgcolor\":\"white\",\"plot_bgcolor\":\"#E5ECF6\",\"polar\":{\"angularaxis\":{\"gridcolor\":\"white\",\"linecolor\":\"white\",\"ticks\":\"\"},\"bgcolor\":\"#E5ECF6\",\"radialaxis\":{\"gridcolor\":\"white\",\"linecolor\":\"white\",\"ticks\":\"\"}},\"scene\":{\"xaxis\":{\"backgroundcolor\":\"#E5ECF6\",\"gridcolor\":\"white\",\"gridwidth\":2,\"linecolor\":\"white\",\"showbackground\":true,\"ticks\":\"\",\"zerolinecolor\":\"white\"},\"yaxis\":{\"backgroundcolor\":\"#E5ECF6\",\"gridcolor\":\"white\",\"gridwidth\":2,\"linecolor\":\"white\",\"showbackground\":true,\"ticks\":\"\",\"zerolinecolor\":\"white\"},\"zaxis\":{\"backgroundcolor\":\"#E5ECF6\",\"gridcolor\":\"white\",\"gridwidth\":2,\"linecolor\":\"white\",\"showbackground\":true,\"ticks\":\"\",\"zerolinecolor\":\"white\"}},\"shapedefaults\":{\"line\":{\"color\":\"#2a3f5f\"}},\"ternary\":{\"aaxis\":{\"gridcolor\":\"white\",\"linecolor\":\"white\",\"ticks\":\"\"},\"baxis\":{\"gridcolor\":\"white\",\"linecolor\":\"white\",\"ticks\":\"\"},\"bgcolor\":\"#E5ECF6\",\"caxis\":{\"gridcolor\":\"white\",\"linecolor\":\"white\",\"ticks\":\"\"}},\"title\":{\"x\":0.05},\"xaxis\":{\"automargin\":true,\"gridcolor\":\"white\",\"linecolor\":\"white\",\"ticks\":\"\",\"title\":{\"standoff\":15},\"zerolinecolor\":\"white\",\"zerolinewidth\":2},\"yaxis\":{\"automargin\":true,\"gridcolor\":\"white\",\"linecolor\":\"white\",\"ticks\":\"\",\"title\":{\"standoff\":15},\"zerolinecolor\":\"white\",\"zerolinewidth\":2}}},\"xaxis\":{\"anchor\":\"y\",\"domain\":[0.0,1.0],\"title\":{\"text\":\"Rango\"}},\"yaxis\":{\"anchor\":\"x\",\"domain\":[0.0,1.0],\"title\":{\"text\":\"Total_Rango\"}},\"legend\":{\"title\":{\"text\":\"Municipio\"},\"tracegroupgap\":0},\"title\":{\"text\":\"Poblaci\\u00f3n masculina por rango de edad y municipio en 2010\"}},                        {\"responsive\": true}                    ).then(function(){\n",
              "                            \n",
              "var gd = document.getElementById('8af6938b-fa50-42c0-9ea4-62ac821a94ce');\n",
              "var x = new MutationObserver(function (mutations, observer) {{\n",
              "        var display = window.getComputedStyle(gd).display;\n",
              "        if (!display || display === 'none') {{\n",
              "            console.log([gd, 'removed!']);\n",
              "            Plotly.purge(gd);\n",
              "            observer.disconnect();\n",
              "        }}\n",
              "}});\n",
              "\n",
              "// Listen for the removal of the full notebook cells\n",
              "var notebookContainer = gd.closest('#notebook-container');\n",
              "if (notebookContainer) {{\n",
              "    x.observe(notebookContainer, {childList: true});\n",
              "}}\n",
              "\n",
              "// Listen for the clearing of the current output cell\n",
              "var outputEl = gd.closest('.output');\n",
              "if (outputEl) {{\n",
              "    x.observe(outputEl, {childList: true});\n",
              "}}\n",
              "\n",
              "                        })                };                            </script>        </div>\n",
              "</body>\n",
              "</html>"
            ]
          },
          "metadata": {}
        }
      ]
    },
    {
      "cell_type": "markdown",
      "source": [
        "## MODELO LINEAL PARA LA MORTALIDAD 1: \n",
        "Se entrena y comprueba con los datos disponibles para 2003 y 2010. Las variables predictoras relativas al número de personas por rango de edad sólo están disponible para 2003 y 2010. \n",
        "\n",
        "* Variable objetivo: mortalidad total\n",
        "* Variables explicativas: número de personas por rango de edad, población total masculina, población total femenina.\n",
        "\n",
        "\n",
        "### PARTE 1:\n",
        "**PORBLEMA DE ESTE MODELO: SÓLO HAY DOS OBSERVACIONES POR MUNICIPIO. PERO HAY MUCHOS MUNICIPIOS...** \n",
        "\n",
        "**Posible solución:** ¿modelo que incluya otras variables predictoras?\n",
        "\n",
        "\n",
        "### PARTE 2:\n",
        "Entrenar con todos los datos de 2003 y 2010. Predecir para 2021"
      ],
      "metadata": {
        "id": "u--2ji1oA8bF"
      }
    },
    {
      "cell_type": "code",
      "source": [
        "x_1 = df_final[ [*[\"CODMUN\", \"POB2003_x\", \"HOM2003_x\", \"MUJ2003_x\"], *men_2003, *women_2003]]\n",
        "\n",
        "d_2003 = {}\n",
        "for elem in x_1.columns:\n",
        "  if elem[0:3] == \"POB\" or elem[0:3] == \"HOM\" or elem[0:3] == \"MUJ\" or elem[0:3] == \"MOR\":\n",
        "    temp = elem[0:3]\n",
        "  else:\n",
        "    temp = elem.split(\"_\")[0]\n",
        "  d_2003[elem] = temp\n",
        "\n",
        "x_1 = x_1.rename(columns = d_2003)"
      ],
      "metadata": {
        "id": "8DcD-KID280K"
      },
      "execution_count": 20,
      "outputs": []
    },
    {
      "cell_type": "code",
      "source": [
        "y_1 = df_final[[\"CODMUN\", \"MOR2003\"]].\\\n",
        "  rename(columns = {\"MOR2003\" : \"MOR\"})"
      ],
      "metadata": {
        "id": "FMEkfIOClb_G"
      },
      "execution_count": 21,
      "outputs": []
    },
    {
      "cell_type": "code",
      "source": [
        "df_1 = reduce(lambda left,right: pd.merge(left,right,on='CODMUN'), [x_1, y_1])\\\n",
        "        .dropna()"
      ],
      "metadata": {
        "id": "oHOJdAU9lgsV"
      },
      "execution_count": 22,
      "outputs": []
    },
    {
      "cell_type": "code",
      "source": [
        "x_2 = df_final[ [*[\"CODMUN\", \"POB2010_x\", \"HOM2010_x\", \"MUJ2010_x\"], *men_2010, *women_2010]]\n",
        "\n",
        "d_2010 = {}\n",
        "for elem in x_2.columns:\n",
        "  if elem[0:3] == \"POB\" or elem[0:3] == \"HOM\" or elem[0:3] == \"MUJ\" or elem[0:3] == \"MOR\":\n",
        "    temp = elem[0:3]\n",
        "  else:\n",
        "    temp = elem.split(\"_\")[0]\n",
        "  d_2010[elem] = temp\n",
        "\n",
        "x_2 = x_2.rename(columns = d_2010)"
      ],
      "metadata": {
        "id": "ttEX6kcuC0m5"
      },
      "execution_count": 23,
      "outputs": []
    },
    {
      "cell_type": "code",
      "source": [
        "y_2 = df_final[[\"CODMUN\", \"MOR2010\"]].\\\n",
        "  rename(columns = {\"MOR2010\" : \"MOR\"}).\\\n",
        "  dropna()"
      ],
      "metadata": {
        "id": "g9vXPUZVl5Pe"
      },
      "execution_count": 24,
      "outputs": []
    },
    {
      "cell_type": "code",
      "source": [
        "df_2 = reduce(lambda left,right: pd.merge(left,right,on='CODMUN'), [x_2, y_2]).\\\n",
        "      dropna()"
      ],
      "metadata": {
        "id": "RMskyqVbl5SE"
      },
      "execution_count": 25,
      "outputs": []
    },
    {
      "cell_type": "code",
      "source": [
        "df_model1 = pd.concat([df_1, df_2])"
      ],
      "metadata": {
        "id": "14a1AytfmK6_"
      },
      "execution_count": 26,
      "outputs": []
    },
    {
      "cell_type": "code",
      "source": [
        "x = df_model1[set(df_model1.columns) - set([\"CODMUN\", \"MOR\"])]\n",
        "y = df_model1[\"MOR\"]"
      ],
      "metadata": {
        "id": "ipN4xRx5mkaD"
      },
      "execution_count": 27,
      "outputs": []
    },
    {
      "cell_type": "code",
      "source": [
        "# Trian - test split\n",
        "x_train, x_test,y_train,y_test = train_test_split(x,y,test_size =0.2)"
      ],
      "metadata": {
        "id": "ZqnysQmINcU3"
      },
      "execution_count": 28,
      "outputs": []
    },
    {
      "cell_type": "code",
      "source": [
        "# Fit linear regression model\n",
        "clf = LinearRegression().fit(x_train, y_train)\n",
        "print('coefficient of determination:', clf.score(x_train, y_train))\n",
        "print('intercept:', clf.intercept_)\n",
        "print('slope:', clf.coef_)"
      ],
      "metadata": {
        "colab": {
          "base_uri": "https://localhost:8080/"
        },
        "id": "DE_2-1sZ0R3Z",
        "outputId": "eb611e22-0157-431b-96fb-00239b3df703"
      },
      "execution_count": 29,
      "outputs": [
        {
          "output_type": "stream",
          "name": "stdout",
          "text": [
            "coefficient of determination: 0.9973726240579855\n",
            "intercept: -0.17452281929017488\n",
            "slope: [ 7.60187345e+09  1.16951899e+08  1.16951899e+08  7.60187345e+09\n",
            "  1.16951899e+08  1.16951899e+08  1.16951899e+08  1.16951899e+08\n",
            "  7.60187345e+09  7.60187345e+09  1.16951899e+08  1.16951899e+08\n",
            "  7.60187345e+09  7.60187345e+09  7.60187345e+09  7.60187345e+09\n",
            "  7.60187345e+09  7.60187345e+09  7.60187345e+09  1.16951899e+08\n",
            "  7.60187345e+09  1.16951899e+08  1.16951899e+08  1.16951899e+08\n",
            "  2.45598989e+09  1.16951899e+08  1.16951899e+08  1.16951899e+08\n",
            "  7.60187345e+09  7.60187345e+09  7.60187345e+09  7.60187345e+09\n",
            "  7.60187345e+09  1.16951899e+08  7.60187345e+09  1.16951899e+08\n",
            "  1.16951899e+08  1.16951899e+08  1.16951899e+08  7.60187345e+09\n",
            "  1.16951899e+08 -2.57294178e+09 -5.02893167e+09  7.60187345e+09\n",
            "  7.60187345e+09]\n"
          ]
        }
      ]
    },
    {
      "cell_type": "code",
      "source": [
        "# predict on test data\n",
        "y_pred = clf.predict(x_test)"
      ],
      "metadata": {
        "id": "x-UBGuGDNtNZ"
      },
      "execution_count": 30,
      "outputs": []
    },
    {
      "cell_type": "code",
      "source": [
        "# Compute MSE\n",
        "mean_squared_error(y_test, y_pred)"
      ],
      "metadata": {
        "colab": {
          "base_uri": "https://localhost:8080/"
        },
        "id": "PCDnaE0AOWY1",
        "outputId": "a0b74abe-a54a-406e-fa75-ba743e8962cc"
      },
      "execution_count": 31,
      "outputs": [
        {
          "output_type": "execute_result",
          "data": {
            "text/plain": [
              "393.6234200930171"
            ]
          },
          "metadata": {},
          "execution_count": 31
        }
      ]
    },
    {
      "cell_type": "code",
      "source": [
        "# Compute MAE\n",
        "mean_absolute_error(y_test, y_pred)"
      ],
      "metadata": {
        "colab": {
          "base_uri": "https://localhost:8080/"
        },
        "id": "y4I5wfJMO1zX",
        "outputId": "f5481264-8a2f-41f7-f35e-3730dccf0ae3"
      },
      "execution_count": 32,
      "outputs": [
        {
          "output_type": "execute_result",
          "data": {
            "text/plain": [
              "3.6226360702764"
            ]
          },
          "metadata": {},
          "execution_count": 32
        }
      ]
    },
    {
      "cell_type": "code",
      "source": [
        "# Compute R2\n",
        "r2_score(y_test, y_pred)"
      ],
      "metadata": {
        "colab": {
          "base_uri": "https://localhost:8080/"
        },
        "id": "KvbhQzdSO8Tn",
        "outputId": "966898f4-f3aa-44a1-a750-7c90edff1178"
      },
      "execution_count": 33,
      "outputs": [
        {
          "output_type": "execute_result",
          "data": {
            "text/plain": [
              "0.9945043567928081"
            ]
          },
          "metadata": {},
          "execution_count": 33
        }
      ]
    },
    {
      "cell_type": "markdown",
      "source": [
        "Seguiremos esta idea en cuanto a variables predictoras y variable objetivo.\n",
        "\n",
        "Entrenamos el modelo ocn TODOS los datos disponibles para 2003 y 2010, años de los cuales también conocemos la mortalidad.\n",
        "\n",
        "Además, conocemos las variables predictoras para año 2021 pero no la variable mortalidad para el año 2021. Predeciremos con el modelo en estos datos de 2021. Si bien, no podremos evaluar los resultados, pero, hemos comprobado que le modelo es más o menos aceptable.\n",
        "\n",
        "¿Sería interesante meter como predictora alguna característica propia del municipio (altura,....)?"
      ],
      "metadata": {
        "id": "DolvNUTGnYBH"
      }
    },
    {
      "cell_type": "code",
      "source": [
        "x_2021 = df_final[ [*[\"CODMUN\", \"POB2021\", \"HOM2021_x\", \"MUJ2021_x\"], *men_2021, *women_2021]]\n",
        "\n",
        "d_2021 = {}\n",
        "for elem in x_1.columns:\n",
        "  if elem[0:3] == \"POB\" or elem[0:3] == \"HOM\" or elem[0:3] == \"MUJ\" or elem[0:3] == \"MOR\":\n",
        "    temp = elem[0:3]\n",
        "  else:\n",
        "    temp = elem.split(\"_\")[0]\n",
        "  d_2021[elem] = temp\n",
        "\n",
        "x_2021 = x_1.rename(columns = d_2021).\\\n",
        "            drop([\"CODMUN\"], axis = 1).\\\n",
        "            dropna()\n",
        "x_2021['HOM'] = pd.to_numeric(x_2021['HOM'], errors = \"coerce\")\n",
        "x_2021['MUJ'] = pd.to_numeric(x_2021['MUJ'], errors = \"coerce\")"
      ],
      "metadata": {
        "id": "q6xPQ-7to7Nh"
      },
      "execution_count": 34,
      "outputs": []
    },
    {
      "cell_type": "code",
      "source": [
        "# Fit linear regression model\n",
        "clf3 = LinearRegression().fit(x, y)\n",
        "print('coefficient of determination:', clf3.score(x, y))\n",
        "print('intercept:', clf3.intercept_)\n",
        "print('slope:', clf3.coef_)"
      ],
      "metadata": {
        "colab": {
          "base_uri": "https://localhost:8080/"
        },
        "id": "8vyZFFCWo2BE",
        "outputId": "db547600-ff23-4131-85a2-8783e345ec4d"
      },
      "execution_count": 35,
      "outputs": [
        {
          "output_type": "stream",
          "name": "stdout",
          "text": [
            "coefficient of determination: 0.9982946252877503\n",
            "intercept: -0.13518953688306468\n",
            "slope: [-6.80226867e+08 -1.04650287e+07 -1.04650287e+07 -6.80226867e+08\n",
            " -1.04650288e+07 -1.04650286e+07 -1.04650286e+07 -1.04650287e+07\n",
            " -6.80226867e+08 -6.80226867e+08 -1.04650287e+07 -1.04650287e+07\n",
            " -6.80226867e+08 -6.80226867e+08 -6.80226866e+08 -6.80226867e+08\n",
            " -6.80226867e+08 -6.80226867e+08 -6.80226867e+08 -1.04650287e+07\n",
            " -6.80226867e+08 -1.04650287e+07 -1.04650287e+07 -1.04650286e+07\n",
            " -2.19765603e+08 -1.04650287e+07 -1.04650292e+07 -1.04650285e+07\n",
            " -6.80226867e+08 -6.80226867e+08 -6.80226867e+08 -6.80226867e+08\n",
            " -6.80226867e+08 -1.04650286e+07 -6.80226867e+08 -1.04650286e+07\n",
            " -1.04650285e+07 -1.04650284e+07 -1.04650286e+07 -6.80226867e+08\n",
            " -1.04650298e+07  2.30230632e+08  4.49996235e+08 -6.80226867e+08\n",
            " -6.80226867e+08]\n"
          ]
        }
      ]
    },
    {
      "cell_type": "code",
      "source": [
        "y_pred_2021 = clf3.predict(x_2021)"
      ],
      "metadata": {
        "colab": {
          "base_uri": "https://localhost:8080/"
        },
        "id": "DD72Uwa1phK4",
        "outputId": "f12daea7-011d-4562-b200-45aa1a87fd0a"
      },
      "execution_count": 36,
      "outputs": [
        {
          "output_type": "stream",
          "name": "stderr",
          "text": [
            "/usr/local/lib/python3.7/dist-packages/sklearn/base.py:493: FutureWarning:\n",
            "\n",
            "The feature names should match those that were passed during fit. Starting version 1.2, an error will be raised.\n",
            "Feature names must be in the same order as they were in fit.\n",
            "\n",
            "\n"
          ]
        }
      ]
    },
    {
      "cell_type": "markdown",
      "source": [
        "## MODELO LINEAL PARA LA MORTALIDAD 2\n",
        "* Variable objetivo: mortalidad total \n",
        "* Variables predictoras: poblacion masculina, poblacion femenina, natalidad, tasa bruta natalidad, tasa bruta mortalidad, saldo vegetativo, tasa crecimiento interanual\n",
        "\n",
        "**Este modelo no tiene mucho sentido, pues, de antemano, conoce variables equivalentes a la moratlidad. Además, en el modelo de gemelos digitales, no va a conocerlas; probablemente sólo conozca como predictora sen total de población según sexo, según edad;  el total de población masculina, el totlal de población femenina.** "
      ],
      "metadata": {
        "id": "z7G4FzA1PI0-"
      }
    },
    {
      "cell_type": "code",
      "source": [
        "# Select desired columns and distinguish by year\n",
        "def build_up_dfs(prefixes_list):\n",
        "  df_list  =[]\n",
        "  for prefix in prefixes_list:\n",
        "    cols = [elem for elem in df_final.columns if elem.startswith(prefix) \n",
        "            and (elem[-1] not in ['x', 'y']) and (elem[3] != \"1\")]\n",
        "    # Save in dataframe\n",
        "    df_temp = df_final[[*[\"CODMUN\"], *cols]].\\\n",
        "             melt(id_vars = [\"CODMUN\"], var_name = \"Year\", value_name = prefix)\n",
        "    # Change name; just want the year\n",
        "    df_temp[\"Year\"] = list(map(lambda x: x[-4:], df_temp[\"Year\"]))\n",
        "    df_list.append(df_temp)\n",
        "  return(df_list)"
      ],
      "metadata": {
        "id": "7ECbHh6GbpcZ"
      },
      "execution_count": 37,
      "outputs": []
    },
    {
      "cell_type": "code",
      "source": [
        "prefixes = [\"HOM\", \"MUJ\", \"SVEG\", \"NAT\", \"TBNAT\", \"TBMOR\", \"TCVEG\", \"MOR\"]\n",
        "df_list = build_up_dfs(prefixes)"
      ],
      "metadata": {
        "id": "2NGjqzDKcTk3"
      },
      "execution_count": 38,
      "outputs": []
    },
    {
      "cell_type": "code",
      "source": [
        "df_model2 = reduce(lambda  left,right: pd.merge(left,right,on=[\"CODMUN\", \"Year\"],\n",
        "                                                   how='outer'), df_list)\n",
        "df_model2['HOM'] = pd.to_numeric(df_model2['HOM'], errors = \"coerce\")\n",
        "df_model2['MUJ'] = pd.to_numeric(df_model2['MUJ'], errors = \"coerce\")\n",
        "\n",
        "df_model2 = df_model2.dropna()"
      ],
      "metadata": {
        "id": "ZUfM8svndHxc"
      },
      "execution_count": 39,
      "outputs": []
    },
    {
      "cell_type": "code",
      "source": [
        "# Predictors\n",
        "x = df_model2[[\"HOM\", \"MUJ\", \"SVEG\", \"NAT\", \"TBNAT\", \"TBMOR\", \"TCVEG\"]]\n",
        "# Target variable / predictand\n",
        "y = df_model2[\"MOR\"]"
      ],
      "metadata": {
        "id": "VENYho2-d5gG"
      },
      "execution_count": 40,
      "outputs": []
    },
    {
      "cell_type": "code",
      "source": [
        "x.head()"
      ],
      "metadata": {
        "colab": {
          "base_uri": "https://localhost:8080/",
          "height": 206
        },
        "id": "3XtQzy2-hd5C",
        "outputId": "48e5062b-c99e-449f-a76f-1f64b6972b36"
      },
      "execution_count": 41,
      "outputs": [
        {
          "output_type": "execute_result",
          "data": {
            "text/plain": [
              "       HOM      MUJ  SVEG    NAT        TBNAT        TBMOR        TCVEG\n",
              "0    799.0    816.0   -22    6.0    32.352941    82.352941   -64.705882\n",
              "1   5141.0   5272.0  -158   55.0   321.888412   914.163090  -678.111588\n",
              "2    362.0    266.0   -14    1.0     9.433962   141.509434  -132.075472\n",
              "3  36800.0  40991.0  -680  384.0  2600.877193  4666.666667 -2982.456140\n",
              "4    803.0    876.0   -24    4.0    85.714286   266.666667  -228.571429"
            ],
            "text/html": [
              "\n",
              "  <div id=\"df-dbbae880-9eaa-4660-afc3-8762a3692981\">\n",
              "    <div class=\"colab-df-container\">\n",
              "      <div>\n",
              "<style scoped>\n",
              "    .dataframe tbody tr th:only-of-type {\n",
              "        vertical-align: middle;\n",
              "    }\n",
              "\n",
              "    .dataframe tbody tr th {\n",
              "        vertical-align: top;\n",
              "    }\n",
              "\n",
              "    .dataframe thead th {\n",
              "        text-align: right;\n",
              "    }\n",
              "</style>\n",
              "<table border=\"1\" class=\"dataframe\">\n",
              "  <thead>\n",
              "    <tr style=\"text-align: right;\">\n",
              "      <th></th>\n",
              "      <th>HOM</th>\n",
              "      <th>MUJ</th>\n",
              "      <th>SVEG</th>\n",
              "      <th>NAT</th>\n",
              "      <th>TBNAT</th>\n",
              "      <th>TBMOR</th>\n",
              "      <th>TCVEG</th>\n",
              "    </tr>\n",
              "  </thead>\n",
              "  <tbody>\n",
              "    <tr>\n",
              "      <th>0</th>\n",
              "      <td>799.0</td>\n",
              "      <td>816.0</td>\n",
              "      <td>-22</td>\n",
              "      <td>6.0</td>\n",
              "      <td>32.352941</td>\n",
              "      <td>82.352941</td>\n",
              "      <td>-64.705882</td>\n",
              "    </tr>\n",
              "    <tr>\n",
              "      <th>1</th>\n",
              "      <td>5141.0</td>\n",
              "      <td>5272.0</td>\n",
              "      <td>-158</td>\n",
              "      <td>55.0</td>\n",
              "      <td>321.888412</td>\n",
              "      <td>914.163090</td>\n",
              "      <td>-678.111588</td>\n",
              "    </tr>\n",
              "    <tr>\n",
              "      <th>2</th>\n",
              "      <td>362.0</td>\n",
              "      <td>266.0</td>\n",
              "      <td>-14</td>\n",
              "      <td>1.0</td>\n",
              "      <td>9.433962</td>\n",
              "      <td>141.509434</td>\n",
              "      <td>-132.075472</td>\n",
              "    </tr>\n",
              "    <tr>\n",
              "      <th>3</th>\n",
              "      <td>36800.0</td>\n",
              "      <td>40991.0</td>\n",
              "      <td>-680</td>\n",
              "      <td>384.0</td>\n",
              "      <td>2600.877193</td>\n",
              "      <td>4666.666667</td>\n",
              "      <td>-2982.456140</td>\n",
              "    </tr>\n",
              "    <tr>\n",
              "      <th>4</th>\n",
              "      <td>803.0</td>\n",
              "      <td>876.0</td>\n",
              "      <td>-24</td>\n",
              "      <td>4.0</td>\n",
              "      <td>85.714286</td>\n",
              "      <td>266.666667</td>\n",
              "      <td>-228.571429</td>\n",
              "    </tr>\n",
              "  </tbody>\n",
              "</table>\n",
              "</div>\n",
              "      <button class=\"colab-df-convert\" onclick=\"convertToInteractive('df-dbbae880-9eaa-4660-afc3-8762a3692981')\"\n",
              "              title=\"Convert this dataframe to an interactive table.\"\n",
              "              style=\"display:none;\">\n",
              "        \n",
              "  <svg xmlns=\"http://www.w3.org/2000/svg\" height=\"24px\"viewBox=\"0 0 24 24\"\n",
              "       width=\"24px\">\n",
              "    <path d=\"M0 0h24v24H0V0z\" fill=\"none\"/>\n",
              "    <path d=\"M18.56 5.44l.94 2.06.94-2.06 2.06-.94-2.06-.94-.94-2.06-.94 2.06-2.06.94zm-11 1L8.5 8.5l.94-2.06 2.06-.94-2.06-.94L8.5 2.5l-.94 2.06-2.06.94zm10 10l.94 2.06.94-2.06 2.06-.94-2.06-.94-.94-2.06-.94 2.06-2.06.94z\"/><path d=\"M17.41 7.96l-1.37-1.37c-.4-.4-.92-.59-1.43-.59-.52 0-1.04.2-1.43.59L10.3 9.45l-7.72 7.72c-.78.78-.78 2.05 0 2.83L4 21.41c.39.39.9.59 1.41.59.51 0 1.02-.2 1.41-.59l7.78-7.78 2.81-2.81c.8-.78.8-2.07 0-2.86zM5.41 20L4 18.59l7.72-7.72 1.47 1.35L5.41 20z\"/>\n",
              "  </svg>\n",
              "      </button>\n",
              "      \n",
              "  <style>\n",
              "    .colab-df-container {\n",
              "      display:flex;\n",
              "      flex-wrap:wrap;\n",
              "      gap: 12px;\n",
              "    }\n",
              "\n",
              "    .colab-df-convert {\n",
              "      background-color: #E8F0FE;\n",
              "      border: none;\n",
              "      border-radius: 50%;\n",
              "      cursor: pointer;\n",
              "      display: none;\n",
              "      fill: #1967D2;\n",
              "      height: 32px;\n",
              "      padding: 0 0 0 0;\n",
              "      width: 32px;\n",
              "    }\n",
              "\n",
              "    .colab-df-convert:hover {\n",
              "      background-color: #E2EBFA;\n",
              "      box-shadow: 0px 1px 2px rgba(60, 64, 67, 0.3), 0px 1px 3px 1px rgba(60, 64, 67, 0.15);\n",
              "      fill: #174EA6;\n",
              "    }\n",
              "\n",
              "    [theme=dark] .colab-df-convert {\n",
              "      background-color: #3B4455;\n",
              "      fill: #D2E3FC;\n",
              "    }\n",
              "\n",
              "    [theme=dark] .colab-df-convert:hover {\n",
              "      background-color: #434B5C;\n",
              "      box-shadow: 0px 1px 3px 1px rgba(0, 0, 0, 0.15);\n",
              "      filter: drop-shadow(0px 1px 2px rgba(0, 0, 0, 0.3));\n",
              "      fill: #FFFFFF;\n",
              "    }\n",
              "  </style>\n",
              "\n",
              "      <script>\n",
              "        const buttonEl =\n",
              "          document.querySelector('#df-dbbae880-9eaa-4660-afc3-8762a3692981 button.colab-df-convert');\n",
              "        buttonEl.style.display =\n",
              "          google.colab.kernel.accessAllowed ? 'block' : 'none';\n",
              "\n",
              "        async function convertToInteractive(key) {\n",
              "          const element = document.querySelector('#df-dbbae880-9eaa-4660-afc3-8762a3692981');\n",
              "          const dataTable =\n",
              "            await google.colab.kernel.invokeFunction('convertToInteractive',\n",
              "                                                     [key], {});\n",
              "          if (!dataTable) return;\n",
              "\n",
              "          const docLinkHtml = 'Like what you see? Visit the ' +\n",
              "            '<a target=\"_blank\" href=https://colab.research.google.com/notebooks/data_table.ipynb>data table notebook</a>'\n",
              "            + ' to learn more about interactive tables.';\n",
              "          element.innerHTML = '';\n",
              "          dataTable['output_type'] = 'display_data';\n",
              "          await google.colab.output.renderOutput(dataTable, element);\n",
              "          const docLink = document.createElement('div');\n",
              "          docLink.innerHTML = docLinkHtml;\n",
              "          element.appendChild(docLink);\n",
              "        }\n",
              "      </script>\n",
              "    </div>\n",
              "  </div>\n",
              "  "
            ]
          },
          "metadata": {},
          "execution_count": 41
        }
      ]
    },
    {
      "cell_type": "code",
      "source": [
        "# BUILD UP MODEL\n",
        "# train - test splitting\n",
        "x_train, x_test,y_train,y_test = train_test_split(x,y,test_size = 0.2)\n",
        "# Train Linear Regression model\n",
        "clf2 = LinearRegression().fit(x_train, y_train)\n",
        "print('coefficient of determination:', clf2.score(x_train, y_train))\n",
        "print('intercept:', clf2.intercept_)\n",
        "print('slope:', clf2.coef_)"
      ],
      "metadata": {
        "colab": {
          "base_uri": "https://localhost:8080/"
        },
        "id": "WyZdGNVYeep2",
        "outputId": "81ee0414-53bb-4f05-aee8-210aa6cc5306"
      },
      "execution_count": 42,
      "outputs": [
        {
          "output_type": "stream",
          "name": "stdout",
          "text": [
            "coefficient of determination: 1.0\n",
            "intercept: -7.105427357601002e-15\n",
            "slope: [-7.37396709e-17  5.55111512e-17 -1.00000000e+00  1.00000000e+00\n",
            " -1.50162001e-16  1.94072189e-17 -9.81202966e-17]\n"
          ]
        }
      ]
    },
    {
      "cell_type": "code",
      "source": [
        "y_pred = clf2.predict(x_test)"
      ],
      "metadata": {
        "id": "7MHviveFggK_"
      },
      "execution_count": 43,
      "outputs": []
    },
    {
      "cell_type": "code",
      "source": [
        "# MSE\n",
        "mean_squared_error(y_test, y_pred)"
      ],
      "metadata": {
        "colab": {
          "base_uri": "https://localhost:8080/"
        },
        "outputId": "dae16534-2eab-4b11-bb49-291b90fabbc1",
        "id": "UCXcoQRiggLE"
      },
      "execution_count": 44,
      "outputs": [
        {
          "output_type": "execute_result",
          "data": {
            "text/plain": [
              "1.1911926460075424e-26"
            ]
          },
          "metadata": {},
          "execution_count": 44
        }
      ]
    },
    {
      "cell_type": "code",
      "source": [
        "# MAE\n",
        "mean_absolute_error(y_test, y_pred)"
      ],
      "metadata": {
        "colab": {
          "base_uri": "https://localhost:8080/"
        },
        "outputId": "599a1288-9785-4df5-d5d9-46dc18bb25e5",
        "id": "Xw55QlMBggLH"
      },
      "execution_count": 45,
      "outputs": [
        {
          "output_type": "execute_result",
          "data": {
            "text/plain": [
              "2.0503014301223225e-14"
            ]
          },
          "metadata": {},
          "execution_count": 45
        }
      ]
    },
    {
      "cell_type": "code",
      "source": [
        "# R2\n",
        "r2_score(y_test, y_pred)"
      ],
      "metadata": {
        "colab": {
          "base_uri": "https://localhost:8080/"
        },
        "outputId": "be736055-cfa1-48d2-9abc-6a3afc7c17bf",
        "id": "_AeJPERlggLL"
      },
      "execution_count": 46,
      "outputs": [
        {
          "output_type": "execute_result",
          "data": {
            "text/plain": [
              "1.0"
            ]
          },
          "metadata": {},
          "execution_count": 46
        }
      ]
    }
  ]
}